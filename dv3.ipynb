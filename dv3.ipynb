{
 "cells": [
  {
   "cell_type": "code",
   "execution_count": 1,
   "metadata": {},
   "outputs": [],
   "source": [
    "import functies as fn\n",
    "import pandas as pd\n",
    "from IPython.display import Image, display\n",
    "import matplotlib.pyplot as plt\n",
    "import seaborn as sns\n",
    "from matplotlib.ticker import FuncFormatter\n",
    "import numpy as np\n",
    "from sklearn.metrics import r2_score, accuracy_score, classification_report\n",
    "from sklearn.ensemble import RandomForestClassifier\n",
    "from sklearn.svm import SVC\n",
    "from sklearn.metrics import mean_squared_error, root_mean_squared_error\n",
    "from sklearn.model_selection import train_test_split\n",
    "from sklearn.preprocessing import StandardScaler\n",
    "import sklearn.linear_model as lm\n",
    "from sklearn.neighbors import KNeighborsRegressor\n",
    "from sklearn.tree import DecisionTreeRegressor\n",
    "from sklearn.tree import export_graphviz\n",
    "import graphviz\n",
    "from sklearn.mixture import GaussianMixture as gmm\n",
    "from sklearn.cluster import KMeans"
   ]
  },
  {
   "cell_type": "code",
   "execution_count": 2,
   "metadata": {},
   "outputs": [],
   "source": [
    "dfr = pd.read_csv('data/movie-1.csv')\n",
    "\n",
    "# Toon de maximale informatie die de dataframe kan geven.\n",
    "pd.set_option('display.max_columns', None)\n",
    "pd.set_option('display.max_rows', None)\n",
    "\n",
    "# Formatteer alle grote getallen voor een betere leesbaarheid.\n",
    "pd.set_option('display.float_format', '{:,.2f}'.format)"
   ]
  },
  {
   "cell_type": "markdown",
   "metadata": {},
   "source": [
    "## Onderzoeksvraag 3: Hoe kunnen budget en omzet worden gebruikt om logische clusters van de films te vinden?\n"
   ]
  },
  {
   "cell_type": "code",
   "execution_count": 3,
   "metadata": {},
   "outputs": [],
   "source": [
    "df = dfr.copy()"
   ]
  },
  {
   "cell_type": "markdown",
   "metadata": {},
   "source": [
    "Om clusters te bepalen in een dataset gaan we nu gebruik maken van unsupervised learning. De algoritmes die we gaan toepassen zijn KMeans en GMM.\n",
    "\n",
    "We maken een nieuw dataframe aan met 'gross' en 'budget'."
   ]
  },
  {
   "cell_type": "code",
   "execution_count": 4,
   "metadata": {},
   "outputs": [],
   "source": [
    "df_gross_budget = df[['gross', 'budget']]"
   ]
  },
  {
   "cell_type": "markdown",
   "metadata": {},
   "source": [
    "Bekijken hoeveel NaN values in de dataset voorkomen."
   ]
  },
  {
   "cell_type": "code",
   "execution_count": null,
   "metadata": {},
   "outputs": [],
   "source": [
    "df_gross_budget.isna().sum()\n"
   ]
  },
  {
   "cell_type": "markdown",
   "metadata": {},
   "source": [
    "Bekijken hoeveel rows het volledige df bevat. Als de NaN waardes maar een klein percentage van de volledige dataset bevat kunnen deze worden verwijderd. Als het een groot percentage bevat dan moeten we kijken of we dit logisch in kunnen vullen"
   ]
  },
  {
   "cell_type": "code",
   "execution_count": null,
   "metadata": {},
   "outputs": [],
   "source": [
    "total_rows = len(df_gross_budget)\n",
    "print(f'aantal rows in de totale datasframe: {total_rows}')\n",
    "nan_rows = df_gross_budget.isna().any(axis=1).sum()\n",
    "print(f'aantal nan rows in de totale datasframe: {nan_rows}')\n",
    "nan_percentage_rows = ((nan_rows / total_rows) * 100).round(1)\n",
    "print(f'Bevat NaN rows t.o.v. totale dataframe: {nan_percentage_rows}%')\n",
    "\n",
    "# Plotten\n",
    "labels = ['Rijen met NaN', 'Rijen zonder NaN']\n",
    "values = [nan_rows, total_rows - nan_rows]\n",
    "\n",
    "plt.figure(figsize=(8, 6))\n",
    "plt.pie(values, labels=labels, autopct='%1.1f%%', startangle=90, colors=['lightcoral', 'lightgreen'], explode=[0.1, 0])\n",
    "plt.title('Verdeling van rijen met en zonder NaN-waarden', fontsize=14)\n",
    "plt.tight_layout()\n",
    "plt.show()"
   ]
  },
  {
   "cell_type": "markdown",
   "metadata": {},
   "source": [
    "Dit is een aanzienlijk groot percentage NaN's. We gaan de data opvullen. Maar eerst moeten we bekijken welke kolommen uit de dataset het meest correleren. De kolommen die het meest correleren met gross en budget kunnen worden gebruikt om de missende data in te vullen."
   ]
  },
  {
   "cell_type": "code",
   "execution_count": null,
   "metadata": {},
   "outputs": [],
   "source": [
    "# Selecteer numerieke kolommen voor correlatie analyse\n",
    "numeric_columns = df.select_dtypes(include=['float64', 'int64']).columns\n",
    "correlation_matrix = df[numeric_columns].corr()\n",
    "\n",
    "# Plot correlatie heatmap\n",
    "plt.figure(figsize=(12, 8))\n",
    "sns.heatmap(correlation_matrix, \n",
    "            annot=True,\n",
    "            cmap='coolwarm',\n",
    "            center=0,\n",
    "            fmt='.2f')\n",
    "plt.title('Correlatie tussen numerieke variabelen')\n",
    "plt.tight_layout()\n",
    "plt.show()\n",
    "\n",
    "# Print de top 5 correlaties met budget en gross\n",
    "print(\"\\nTop 5 correlaties met budget:\")\n",
    "budget_correlations = correlation_matrix['budget'].sort_values(ascending=False)\n",
    "print(budget_correlations.head())\n",
    "\n",
    "print(\"\\nTop 5 correlaties met gross:\")\n",
    "gross_correlations = correlation_matrix['gross'].sort_values(ascending=False)\n",
    "print(gross_correlations.head())"
   ]
  },
  {
   "cell_type": "markdown",
   "metadata": {},
   "source": [
    "De enige matige correlaties zijn tussen de gross en num_voted_users en num_users_for_reviews. We zullen deze 2 kolommen gebruiken om de missende NaN values in te vullen van gross. "
   ]
  },
  {
   "cell_type": "code",
   "execution_count": 8,
   "metadata": {},
   "outputs": [],
   "source": [
    "# Vul missende waarden van 'gross' in op basis van gemiddelden per cluster\n",
    "# Cluster bepalen op basis van 'num_voted_users' en 'num_user_for_reviews'\n",
    "\n",
    "# Maak een nieuwe kolom voor clustering (bijvoorbeeld afronden van aantallen gebruikers)\n",
    "df['cluster'] = (\n",
    "    df['num_voted_users'].fillna(0).round(-3).astype(int).astype(str) + '_' +\n",
    "    df['num_user_for_reviews'].fillna(0).round(-2).astype(int).astype(str)\n",
    ")\n",
    "\n",
    "# Bereken gemiddelde 'gross' per cluster\n",
    "cluster_gross_mean = df.groupby('cluster')['gross'].mean()\n",
    "\n",
    "# Vul NaN-waarden van 'gross' in met de gemiddelden per cluster\n",
    "df['gross'] = df.apply(\n",
    "    lambda row: cluster_gross_mean[row['cluster']] if pd.isna(row['gross']) else row['gross'],\n",
    "    axis=1\n",
    ")\n",
    "\n",
    "# Verwijder tijdelijke clusterkolom\n",
    "df.drop(columns=['cluster'], inplace=True)\n"
   ]
  },
  {
   "cell_type": "markdown",
   "metadata": {},
   "source": [
    "Weer opnieuw een dataframe maken met alleen gross en budget maar dan met de ingevulde gross kolom"
   ]
  },
  {
   "cell_type": "code",
   "execution_count": 9,
   "metadata": {},
   "outputs": [],
   "source": [
    "df = df[['gross', 'budget']]"
   ]
  },
  {
   "cell_type": "markdown",
   "metadata": {},
   "source": [
    "Weer alle NaN values checken"
   ]
  },
  {
   "cell_type": "code",
   "execution_count": null,
   "metadata": {},
   "outputs": [],
   "source": [
    "df.isna().sum()"
   ]
  },
  {
   "cell_type": "markdown",
   "metadata": {},
   "source": [
    "Opnieuw bekijken hoeveel procent NaN waarden bevat"
   ]
  },
  {
   "cell_type": "code",
   "execution_count": null,
   "metadata": {},
   "outputs": [],
   "source": [
    "total_rows = len(df)\n",
    "print(f'aantal rows in de totale datasframe: {total_rows}')\n",
    "nan_rows = df.isna().any(axis=1).sum()\n",
    "print(f'aantal nan rows in de totale datasframe: {nan_rows}')\n",
    "nan_percentage_rows = ((nan_rows / total_rows) * 100).round(1)\n",
    "print(f'Bevat NaN rows t.o.v. totale dataframe: {nan_percentage_rows}%')\n",
    "\n",
    "# Plotten\n",
    "labels = ['Rijen met NaN', 'Rijen zonder NaN']\n",
    "values = [nan_rows, total_rows - nan_rows]\n",
    "\n",
    "plt.figure(figsize=(8, 6))\n",
    "plt.pie(values, labels=labels, autopct='%1.1f%%', startangle=90, colors=['lightcoral', 'lightgreen'], explode=[0.1, 0])\n",
    "plt.title('Verdeling van rijen met en zonder NaN-waarden', fontsize=14)\n",
    "plt.tight_layout()\n",
    "plt.show()"
   ]
  },
  {
   "cell_type": "markdown",
   "metadata": {},
   "source": [
    "We hebben het aantal NaN values verlaagd van 22.8% tot 10.1%. Dit is nogsteeds relatief veel maar helaas is er weinig correlatie met de budget kolom waardoor we deze niet verder in kunnen vullen. Daarom kiezen we ervoor om de resterende NaN waarden te verwijderen."
   ]
  },
  {
   "cell_type": "markdown",
   "metadata": {},
   "source": [
    "Alle NaN's verwijderen"
   ]
  },
  {
   "cell_type": "code",
   "execution_count": 12,
   "metadata": {},
   "outputs": [],
   "source": [
    "df = df.dropna()"
   ]
  },
  {
   "cell_type": "markdown",
   "metadata": {},
   "source": [
    "Opnieuw bekijken hoeveel NaN's in de dataset voorkomen. Na het verwijderen ervan moeten ze voor allebei op 0 staan."
   ]
  },
  {
   "cell_type": "code",
   "execution_count": null,
   "metadata": {},
   "outputs": [],
   "source": [
    "df.isna().sum()"
   ]
  },
  {
   "cell_type": "markdown",
   "metadata": {},
   "source": [
    "Het dataframe bekijken"
   ]
  },
  {
   "cell_type": "code",
   "execution_count": null,
   "metadata": {},
   "outputs": [],
   "source": [
    "df.head(10)"
   ]
  },
  {
   "cell_type": "markdown",
   "metadata": {},
   "source": [
    "## Verwijderen van outliers ##\n",
    "\n",
    "Omdat de modellen gevoelig zijn voor outliers gaan we identificeren welke we gaan verwijderen."
   ]
  },
  {
   "cell_type": "code",
   "execution_count": null,
   "metadata": {},
   "outputs": [],
   "source": [
    "fn.boxplot_gross_and_budget(df, 'gross')\n",
    "fn.histogram_gross(df, 'gross')\n",
    "\n",
    "fn.boxplot_gross_and_budget(df, 'budget')\n",
    "fn.histogram_gross(df, 'budget')"
   ]
  },
  {
   "cell_type": "markdown",
   "metadata": {},
   "source": [
    "Als we kijken naar een combinatie van de boxplots en histogrammen, dan zien we dat er extreme outliers in onze dataset voorkomen. Onze onderzoeksvraag vraagt niet om bijzondere gevallen te bepalen, maar om logische clusters te bepalen, wat na verwijderen van de outliers nogsteeds kan worden gedaan. Hierdoor besluiten we alle outliers te verwijderen uit onze dataset. Hierbij maken we gebruik van de functies uit functies.py. Ook bekijken we het aantal rijen en kolommen voordat we ze gaan verwijderen om te checken of ze echt zijn verwijderd."
   ]
  },
  {
   "cell_type": "code",
   "execution_count": null,
   "metadata": {},
   "outputs": [],
   "source": [
    "df.shape"
   ]
  },
  {
   "cell_type": "code",
   "execution_count": 17,
   "metadata": {},
   "outputs": [],
   "source": [
    "df = fn.remove_outliers(df, 'gross')\n",
    "df = fn.remove_outliers(df, 'budget')"
   ]
  },
  {
   "cell_type": "markdown",
   "metadata": {},
   "source": [
    "Checken of de outliers zijn verwijderd door het aantal rijen en kolommen te bekijken. Dit is inderdaad een lager getal dan eerst, wat betekend dat ze zijn verwijderd."
   ]
  },
  {
   "cell_type": "code",
   "execution_count": null,
   "metadata": {},
   "outputs": [],
   "source": [
    "df.shape"
   ]
  },
  {
   "cell_type": "markdown",
   "metadata": {},
   "source": [
    "Ook bekijken we de histogrammen opnieuw. De x as moet een bereik hebben wat overeenkomt met wat we op de boxplots zagen. "
   ]
  },
  {
   "cell_type": "code",
   "execution_count": null,
   "metadata": {},
   "outputs": [],
   "source": [
    "fn.histogram_gross(df, 'gross')\n",
    "\n",
    "fn.histogram_gross(df, 'budget')"
   ]
  },
  {
   "cell_type": "markdown",
   "metadata": {},
   "source": [
    "Het bereik op de x as komt inderdaad overeen met wat we zagen in de boxplots voordat we de outliers hebben verwijderd."
   ]
  },
  {
   "cell_type": "markdown",
   "metadata": {},
   "source": [
    "Nu gaan we kijken of er na opvulling en opschoning van onze dataset logische clusters kunnen worden bepaald met unsupervised learning. De 2 modellen die we gebruiken zijn kmeans en gmm. We gebruiken deze 2 modellen omdat ze relatief eenvoudig, efficiënt en effectief zijn bij het vinden van clusters in onze continueu data. Kmeans kan goed voor bolvormige clusters modelleren en gmm kan goed verschillende vormen moddeleren doordat het flexibeler is."
   ]
  },
  {
   "cell_type": "code",
   "execution_count": 20,
   "metadata": {},
   "outputs": [],
   "source": [
    "# Code afkomstig van les CM10\n",
    "# kMeans en GMM maken gebruik van afstandsmaten, daarom is standaardiseren belangrijk\n",
    "df.reset_index(inplace = True)\n",
    "\n",
    "# We passen scaling toe zodat de afstandmaten beter zijn verdeeld onder elkaar.\n",
    "scaler = StandardScaler()\n",
    "scaler.fit(df[['gross', 'budget']])\n",
    "df_z = pd.DataFrame(scaler.transform(df[['gross', 'budget']]), columns=['gross_z', 'budget_z'])\n",
    "df[['gross_z', 'budget_z']] = df_z"
   ]
  },
  {
   "cell_type": "markdown",
   "metadata": {},
   "source": [
    "Kijken of de correcte kolommen zijn aangemaakt. gross_z en budget_z zijn inderdaad aangemaakt."
   ]
  },
  {
   "cell_type": "code",
   "execution_count": null,
   "metadata": {},
   "outputs": [],
   "source": [
    "df.head(5)"
   ]
  },
  {
   "cell_type": "markdown",
   "metadata": {},
   "source": [
    "## Moddeleren"
   ]
  },
  {
   "cell_type": "markdown",
   "metadata": {},
   "source": [
    "We gaan als eerst KMeans toepassen op onze dataset en bekijken welke clusters dit moddeleert. We kiezen hier handmatig 5 clusters. Dit doen we omdat onze hoofdvraag vraagt om 5 clusters: blockbuster films, flop films, cult films, mid range films en rest van de films."
   ]
  },
  {
   "cell_type": "code",
   "execution_count": null,
   "metadata": {},
   "outputs": [],
   "source": [
    "# Maken van een willekeurige clustering\n",
    "model_kMeans = KMeans(n_clusters=5, random_state=0)\n",
    "X_kMeans = df[['gross_z', 'budget_z']]\n",
    "\n",
    "# Clusters 'voorspellen' en opslaan\n",
    "prediction_kMeans = model_kMeans.fit_predict(X_kMeans)\n",
    "df['cluster_number'] = model_kMeans.predict(X_kMeans)\n",
    "\n",
    "# Plotten van 'omzet' en 'budget' en als kleur de clusters\n",
    "plt.scatter(df['gross'], df['budget'], c=df['cluster_number'], cmap='plasma')\n",
    "plt.gca().xaxis.set_major_formatter(FuncFormatter(fn.euro_formatter))\n",
    "plt.gca().yaxis.set_major_formatter(FuncFormatter(fn.euro_formatter))\n",
    "plt.title('Scatterplot: omzet vs budget')\n",
    "plt.xlabel('omzet')\n",
    "plt.ylabel('budget')\n",
    "plt.show()"
   ]
  },
  {
   "cell_type": "markdown",
   "metadata": {},
   "source": [
    "Als we naar de plot kijken zien we dat KMeans uitstekende logische clusters kan vormen. Alle kleuren staan gegroupeerd bij elkaar met logische parameters per groep. Helaas geeft dit geen clusters die overeenkomen met de 5 soorten films uit onze hoofdvraag. "
   ]
  },
  {
   "cell_type": "markdown",
   "metadata": {},
   "source": [
    "Om nog even bij KMeans te blijven gaan we hier de 'elbow method' toepassen. Dit doen we omdat dit het punt is waar het toevoegen van extra clusters nauwelijks meer leidt tot een significante verbetering in de clusteringkwaliteit. Als de 'knik' valt op 5 weten we dat dit het optimale punt is om te zoeken naar clusters."
   ]
  },
  {
   "cell_type": "code",
   "execution_count": null,
   "metadata": {},
   "outputs": [],
   "source": [
    "# Code afkomstig van les CM10\n",
    "\n",
    "data = []\n",
    "\n",
    "max_k = 20\n",
    "\n",
    "for i in range(1, max_k):\n",
    "    model_kMeans = KMeans(n_clusters=i, random_state=0)\n",
    "    X_kMeans = df[['gross_z', 'budget_z']]\n",
    "\n",
    "    # Clusters 'voorspellen' en opslaan\n",
    "    model_kMeans.fit(X_kMeans)\n",
    "\n",
    "    data.append([i, model_kMeans.score(X_kMeans)])\n",
    "\n",
    "df_plot_kmeans = pd.DataFrame(data, columns=['k', 'Score'])\n",
    "\n",
    "fig = plt.figure(figsize=(5,5), dpi=150)\n",
    "\n",
    "ax = plt.axes()\n",
    "\n",
    "ax.set(xlim=(0,max_k),\n",
    "       xlabel='n',\n",
    "       ylabel='Score',\n",
    "       title='Kmeans: score vs k')\n",
    "\n",
    "ax.xaxis.set_major_locator(plt.MaxNLocator(max_k))\n",
    "ax.ticklabel_format(useOffset=False)\n",
    "ax.plot(df_plot_kmeans['k'], df_plot_kmeans['Score'], '-o')\n",
    "\n",
    "ax.legend(['k'])"
   ]
  },
  {
   "cell_type": "markdown",
   "metadata": {},
   "source": [
    "Als we kijken naar de plot van de 'elbow method' zien we dat de 'knik' zit bij n=2. Dit punt geeft de optimale balans in modelcomplexiteit en clusteringkwaliteit. De knik valt dus niet op 5, wat betekend dat we eerder met n=5 hebben overclusterd. Dit betekent niet dat het geen logische clusters heeft gevonden, maar wel dat het overcomplexe clusters probeert te vinden zonder dat de kwaliteit van de clusters omhoog gaat. Hieronder plotten we de optimale balans met n=2."
   ]
  },
  {
   "cell_type": "code",
   "execution_count": null,
   "metadata": {},
   "outputs": [],
   "source": [
    "# Maken van een willekeurige clustering\n",
    "model_kMeans = KMeans(n_clusters=2, random_state=0)\n",
    "X_kMeans = df[['gross_z', 'budget_z']]\n",
    "\n",
    "# Clusters 'voorspellen' en opslaan\n",
    "prediction_kMeans = model_kMeans.fit_predict(X_kMeans)\n",
    "df['cluster_number'] = model_kMeans.predict(X_kMeans)\n",
    "\n",
    "# Plotten van 'omzet' en 'budget' en als kleur de clusters\n",
    "plt.scatter(df['gross'], df['budget'], c=df['cluster_number'], cmap='plasma')\n",
    "plt.gca().xaxis.set_major_formatter(FuncFormatter(fn.euro_formatter))\n",
    "plt.gca().yaxis.set_major_formatter(FuncFormatter(fn.euro_formatter))\n",
    "plt.title('Scatterplot: omzet vs budget')\n",
    "plt.xlabel('omzet')\n",
    "plt.ylabel('budget')\n",
    "plt.show()"
   ]
  },
  {
   "cell_type": "markdown",
   "metadata": {},
   "source": [
    "Ook dit geeft weer logische clusters zoals laag budget en omzet en hoog budget en omzet, maar geen clusters die slaan op onze hoofdvraag."
   ]
  },
  {
   "cell_type": "markdown",
   "metadata": {},
   "source": [
    "Nu gaan we hetzelfde doen maar dan met GMM."
   ]
  },
  {
   "cell_type": "code",
   "execution_count": null,
   "metadata": {},
   "outputs": [],
   "source": [
    "# Maken van een willekeurige clustering\n",
    "model_gmm = gmm(n_components=5, random_state=0)\n",
    "X_gmm = df[['gross_z', 'budget_z']]\n",
    "\n",
    "# Clusters 'voorspellen' en opslaan\n",
    "prediction_gmm = model_gmm.fit_predict(X_gmm)\n",
    "df['cluster_number'] = model_gmm.predict(X_gmm)\n",
    "\n",
    "# Plotten van 'omzet' en 'budget' en als kleur de clusters\n",
    "plt.scatter(df['gross'], df['budget'], c=df['cluster_number'], cmap='plasma')\n",
    "plt.gca().xaxis.set_major_formatter(FuncFormatter(fn.euro_formatter))\n",
    "plt.gca().yaxis.set_major_formatter(FuncFormatter(fn.euro_formatter))\n",
    "plt.title('Scatterplot: omzet vs budget')\n",
    "plt.xlabel('omzet')\n",
    "plt.ylabel('budget')\n",
    "plt.show()"
   ]
  },
  {
   "cell_type": "markdown",
   "metadata": {},
   "source": [
    "Ook hier zie je dat het clusters maakt die logisch zijn maar weer niet slaan op onze hoofdvraag. De vormen zijn wat flexibeler en rondvormig, wat een kenmerk is van gmm."
   ]
  },
  {
   "cell_type": "markdown",
   "metadata": {},
   "source": [
    "Dan gaan we kijken naar de elbow method voor gmm."
   ]
  },
  {
   "cell_type": "code",
   "execution_count": null,
   "metadata": {},
   "outputs": [],
   "source": [
    "# Code afkomstig van les CM10\n",
    "data = []\n",
    "\n",
    "max_n = 20\n",
    "\n",
    "for i in range(1, max_k):\n",
    "    model_gmm = gmm(n_components=i, random_state=0)\n",
    "    X_gmm = df[['gross_z', 'budget_z']]\n",
    "\n",
    "    prediction_gmm = model_gmm.fit(X_gmm)\n",
    "    data.append([i, model_gmm.score(X_gmm)])\n",
    "\n",
    "df_plot_gmm = pd.DataFrame(data, columns=['n', 'Score'])\n",
    "\n",
    "fig = plt.figure(figsize=(5,5), dpi=150)\n",
    "\n",
    "ax = plt.axes()\n",
    "\n",
    "ax.set(xlim=(0,max_n),\n",
    "       xlabel='n',\n",
    "       ylabel='Score',\n",
    "       title='GMM: score vs n')\n",
    "\n",
    "ax.xaxis.set_major_locator(plt.MaxNLocator(20))\n",
    "ax.ticklabel_format(useOffset=False)\n",
    "ax.plot(df_plot_gmm['n'], df_plot_gmm['Score'], '-o')\n",
    "\n",
    "ax.legend(['n'])"
   ]
  },
  {
   "cell_type": "markdown",
   "metadata": {},
   "source": [
    "De knik bij de elbow method voor gmm zit op 4. Dit punt geeft de optimale balans in modelcomplexiteit en clusteringkwaliteit. De knik valt dus niet op 5, wat betekend dat we eerder met n=5 hebben overclusterd. Dit betekent niet dat het geen logische clusters heeft gevonden, maar wel dat het overcomplexe clusters probeert te vinden zonder dat de kwaliteit van de clusters omhoog gaat. Zeker bij deze want hier flatlined de plot tussen 4 en 5. Hieronder plotten we de optimale balans met n=4."
   ]
  },
  {
   "cell_type": "code",
   "execution_count": null,
   "metadata": {},
   "outputs": [],
   "source": [
    "# Maken van een willekeurige clustering\n",
    "model_gmm = gmm(n_components=4, random_state=0)\n",
    "X_gmm = df[['gross_z', 'budget_z']]\n",
    "\n",
    "# Clusters 'voorspellen' en opslaan\n",
    "prediction_gmm = model_gmm.fit_predict(X_gmm)\n",
    "df['cluster_number'] = model_gmm.predict(X_gmm)\n",
    "\n",
    "# Plotten van 'omzet' en 'budget' en als kleur de clusters\n",
    "plt.scatter(df['gross'], df['budget'], c=df['cluster_number'], cmap='plasma')\n",
    "plt.gca().xaxis.set_major_formatter(FuncFormatter(fn.euro_formatter))\n",
    "plt.gca().yaxis.set_major_formatter(FuncFormatter(fn.euro_formatter))\n",
    "plt.title('Scatterplot: omzet vs budget')\n",
    "plt.xlabel('omzet')\n",
    "plt.ylabel('budget')\n",
    "plt.show()"
   ]
  },
  {
   "cell_type": "markdown",
   "metadata": {},
   "source": [
    "Ook hier zie je dat het clusters maakt die logisch zijn maar weer niet slaan op onze hoofdvraag. De logische clusters hebben allemaal dezelfde combinatie van hoeveelheid in budget en omzet. De vormen zijn wat flexibeler en rondvormig, wat een kenmerk is van gmm."
   ]
  },
  {
   "cell_type": "markdown",
   "metadata": {},
   "source": [
    "Natuurlijk zouden we dit zelf wel kunnen maken op basis van een paar regels, namelijk:\n",
    "\n",
    "Het opdelen van de films in 5 categorieën.\n",
    "\n",
    "1. Blockbuster: hoog budget met hoge omzet\n",
    "2. Flop: hoog budget met lage omzet\n",
    "3. Cultfilm: laag budget met hoge omzet\n",
    "4. Mid-Range Movie: Gemiddeld budget met gemiddelde omzet\n",
    "5. Average: Alle andere gevallen"
   ]
  },
  {
   "cell_type": "code",
   "execution_count": null,
   "metadata": {},
   "outputs": [],
   "source": [
    "# In volledige dataFrame, alle NaN waarde verwijderen van budget en gross.\n",
    "df = dfr[['budget', 'gross']].dropna()\n",
    "\n",
    "# Extreme waarde van budget en gross worden ook verwijderd.\n",
    "df = df[(df['budget'] < 350000000) & (df['gross'] < 1000000000)] \\\n",
    "\n",
    "# Zie functies.py voor de functie classify_movie\n",
    "df['Category'] = df.apply(fn.classify_movie, axis=1)\n",
    "\n",
    "# Scatterplot Visualiseren met kleur\n",
    "plt.figure(figsize=(12, 8))\n",
    "colors = {'Blockbuster':'green', 'Flop':'red', 'Cultfilm':'blue', 'Average':'orange', 'Mid-Range Movie':'purple'}\n",
    "scatter = plt.scatter(df['budget'], df['gross'], \n",
    "                      c=df['Category'].map(colors), alpha=0.5, s=60, edgecolor='k', marker='o')\n",
    "\n",
    "# Titel en labels\n",
    "plt.title('Filmclusters Gebaseerd op gudget en winst', fontsize=16)\n",
    "plt.xlabel('Budget (in dollars)', fontsize=14)\n",
    "plt.ylabel('Omzet (in dollars)', fontsize=14)\n",
    "\n",
    "# Weergavegrenzen\n",
    "plt.xlim(0, 300000000)  \n",
    "plt.ylim(0, 800000000) \n",
    "\n",
    "# Grafiek lijn\n",
    "plt.grid(True, linestyle='-', alpha=0.5)\n",
    "\n",
    "plt.gca().xaxis.set_major_formatter(FuncFormatter(fn.euro_formatter))\n",
    "plt.gca().yaxis.set_major_formatter(FuncFormatter(fn.euro_formatter))\n",
    "\n",
    "plt.show()"
   ]
  },
  {
   "cell_type": "markdown",
   "metadata": {},
   "source": [
    "**Kleur en kermerken van de clusters in de scatterplot**\n",
    "\n",
    "- **Groen: blockbuster films**\n",
    "\n",
    "Deze films zijn met een hoog budget (> 100 miljoen dollar) en met een hoge omzet (>300 miljoen dollar).\n",
    "\n",
    "We zien groene cluster rechterboven in de grafiek. De succesvolle films.\n",
    "\n",
    "\n",
    "- **Rood: flop films**\n",
    "\n",
    "Deze films zijn met een hoog budget (> 100 miljoen dollar) en met een lage omzet (<50 miljoen dollar).\n",
    "\n",
    "We zien rode cluster rechtsonder in de grafiek. Deze is een klein cluster.\n",
    "\n",
    "\n",
    "- **Blauw: cultfilms**\n",
    "\n",
    "Deze films zijn met een laag budget (<20 miljoen dollar) en met een relatief hoge omzet (>50 miljoen dollar).\n",
    "\n",
    "We zien blauwe cluster linkerboven in de grafiek. Dit cluster laten zien de films met een laag budget toch tot een groot succes kan zijn.\n",
    "\n",
    "\n",
    "- **Paars: mid range films**\n",
    "\n",
    "Deze films zijn met een middelgroot budget (50-100 miljoen dollar) en met een middelgroot omzet (50-300 miljoen dollar).\n",
    "\n",
    "We zien paarse cluster midden in de grafiek. Deze is een groot cluster, betekent er zijn heel veel prima films.\n",
    "\n",
    "\n",
    "- **Orange: rest van de films**\n",
    "\n",
    "Alle film die niet in bovenstaande categorieën.\n",
    "\n",
    "We zien orange cluster verspreid over de grafiek. Er zijn heel veel films die gewoon middelmatige resultaten halen, dus niet te ondersheiden in budget of omzet.\n",
    "\n"
   ]
  },
  {
   "cell_type": "markdown",
   "metadata": {},
   "source": [
    "## Conclusie onderzoeksvraag 3\n"
   ]
  },
  {
   "cell_type": "markdown",
   "metadata": {},
   "source": [
    "Door middel van unsupervised learning kunnen er logische clusters gemaakt worden. Alle 2 de modellen presteren hier goed in. De kleuren zijn niet verspreid van elkaar wat dit aanduidt. Er is echter geen goed onderscheid te maken tussen blockbusters, flops en cultfilms als je kijkt naar de kleuren van de clusters. Zelfs met verschillende k waarden van beide modellen wordt het er niet beter op.\n",
    "\n",
    "We kunnen wel door middel van rule based tabellen een logische cluster maken. Maar goed, dat is supervised en niet unsupervised learning.\n",
    "\n",
    "Het is dus mogelijk om logische clusters te vinden met onze unsupervised technieken, maar deze kunnen geen onderscheid vinden tussen de 5 verschillende films."
   ]
  }
 ],
 "metadata": {
  "kernelspec": {
   "display_name": "Python 3",
   "language": "python",
   "name": "python3"
  },
  "language_info": {
   "codemirror_mode": {
    "name": "ipython",
    "version": 3
   },
   "file_extension": ".py",
   "mimetype": "text/x-python",
   "name": "python",
   "nbconvert_exporter": "python",
   "pygments_lexer": "ipython3",
   "version": "3.12.6"
  }
 },
 "nbformat": 4,
 "nbformat_minor": 4
}
