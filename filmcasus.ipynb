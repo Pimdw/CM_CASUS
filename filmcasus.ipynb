{
 "cells": [
  {
   "cell_type": "markdown",
   "id": "3308c7e7-232d-4a29-abbf-65a0984c96c0",
   "metadata": {},
   "source": [
    "# Film Casus\n",
    "\n",
    "In dit notebook gaan we naar de filmdataset kijken. Onze onderzoek vraag luidt:\n",
    "\n",
    "In hoeverre is de omzet van een film te voorspellen op basis van de populariteit op Facebook en IMDBWe gaan later de dataset nog uitbreiden door er een nieuwe dataset bij toe te voegen en een nieuwe onderzoek vraag te verzinnen.\n",
    "Maar voor nu focussen we op de eeste vraag. Let's Begin!\n",
    "\n",
    "# Data Understanding\n",
    "?\n"
   ]
  },
  {
   "cell_type": "code",
   "execution_count": 20,
   "id": "8d48766f-3b54-48fa-98ba-139851700156",
   "metadata": {},
   "outputs": [],
   "source": [
    "import numpy as np \n",
    "import pandas as pd\n",
    "from scipy import stats \n",
    "from IPython.display import Image, display\n",
    "import matplotlib.pyplot as plt"
   ]
  },
  {
   "cell_type": "code",
   "execution_count": 2,
   "id": "3a2e4836-9195-4b1e-a1eb-770d4968ee44",
   "metadata": {},
   "outputs": [],
   "source": [
    "filmdb = pd.read_csv('movie-1.csv')"
   ]
  },
  {
   "cell_type": "markdown",
   "id": "9b14139e-739a-4fd4-91bf-a8393a28eac1",
   "metadata": {},
   "source": [
    "De database is correct ingeladen laten we dieper kijken welke colummen we hebben om mee te werken."
   ]
  },
  {
   "cell_type": "code",
   "execution_count": 3,
   "id": "70008a88-0f10-41e0-93cd-dab8736607ff",
   "metadata": {
    "scrolled": true
   },
   "outputs": [
    {
     "data": {
      "text/html": [
       "<div>\n",
       "<style scoped>\n",
       "    .dataframe tbody tr th:only-of-type {\n",
       "        vertical-align: middle;\n",
       "    }\n",
       "\n",
       "    .dataframe tbody tr th {\n",
       "        vertical-align: top;\n",
       "    }\n",
       "\n",
       "    .dataframe thead th {\n",
       "        text-align: right;\n",
       "    }\n",
       "</style>\n",
       "<table border=\"1\" class=\"dataframe\">\n",
       "  <thead>\n",
       "    <tr style=\"text-align: right;\">\n",
       "      <th></th>\n",
       "      <th>color</th>\n",
       "      <th>director_name</th>\n",
       "      <th>num_critic_for_reviews</th>\n",
       "      <th>duration</th>\n",
       "      <th>director_facebook_likes</th>\n",
       "      <th>actor_3_facebook_likes</th>\n",
       "      <th>actor_2_name</th>\n",
       "      <th>actor_1_facebook_likes</th>\n",
       "      <th>gross</th>\n",
       "      <th>genres</th>\n",
       "      <th>...</th>\n",
       "      <th>num_user_for_reviews</th>\n",
       "      <th>language</th>\n",
       "      <th>country</th>\n",
       "      <th>content_rating</th>\n",
       "      <th>budget</th>\n",
       "      <th>title_year</th>\n",
       "      <th>actor_2_facebook_likes</th>\n",
       "      <th>imdb_score</th>\n",
       "      <th>aspect_ratio</th>\n",
       "      <th>movie_facebook_likes</th>\n",
       "    </tr>\n",
       "  </thead>\n",
       "  <tbody>\n",
       "    <tr>\n",
       "      <th>0</th>\n",
       "      <td>Color</td>\n",
       "      <td>James Cameron</td>\n",
       "      <td>723.0</td>\n",
       "      <td>178.0</td>\n",
       "      <td>0.0</td>\n",
       "      <td>855.0</td>\n",
       "      <td>Joel David Moore</td>\n",
       "      <td>1000.0</td>\n",
       "      <td>760505847.0</td>\n",
       "      <td>Action|Adventure|Fantasy|Sci-Fi</td>\n",
       "      <td>...</td>\n",
       "      <td>3054.0</td>\n",
       "      <td>English</td>\n",
       "      <td>USA</td>\n",
       "      <td>PG-13</td>\n",
       "      <td>237000000.0</td>\n",
       "      <td>2009.0</td>\n",
       "      <td>936.0</td>\n",
       "      <td>7.9</td>\n",
       "      <td>1.78</td>\n",
       "      <td>33000</td>\n",
       "    </tr>\n",
       "    <tr>\n",
       "      <th>1</th>\n",
       "      <td>Color</td>\n",
       "      <td>Gore Verbinski</td>\n",
       "      <td>302.0</td>\n",
       "      <td>169.0</td>\n",
       "      <td>563.0</td>\n",
       "      <td>1000.0</td>\n",
       "      <td>Orlando Bloom</td>\n",
       "      <td>40000.0</td>\n",
       "      <td>309404152.0</td>\n",
       "      <td>Action|Adventure|Fantasy</td>\n",
       "      <td>...</td>\n",
       "      <td>1238.0</td>\n",
       "      <td>English</td>\n",
       "      <td>USA</td>\n",
       "      <td>PG-13</td>\n",
       "      <td>300000000.0</td>\n",
       "      <td>2007.0</td>\n",
       "      <td>5000.0</td>\n",
       "      <td>7.1</td>\n",
       "      <td>2.35</td>\n",
       "      <td>0</td>\n",
       "    </tr>\n",
       "    <tr>\n",
       "      <th>2</th>\n",
       "      <td>Color</td>\n",
       "      <td>Sam Mendes</td>\n",
       "      <td>602.0</td>\n",
       "      <td>148.0</td>\n",
       "      <td>0.0</td>\n",
       "      <td>161.0</td>\n",
       "      <td>Rory Kinnear</td>\n",
       "      <td>11000.0</td>\n",
       "      <td>200074175.0</td>\n",
       "      <td>Action|Adventure|Thriller</td>\n",
       "      <td>...</td>\n",
       "      <td>994.0</td>\n",
       "      <td>English</td>\n",
       "      <td>UK</td>\n",
       "      <td>PG-13</td>\n",
       "      <td>245000000.0</td>\n",
       "      <td>2015.0</td>\n",
       "      <td>393.0</td>\n",
       "      <td>6.8</td>\n",
       "      <td>2.35</td>\n",
       "      <td>85000</td>\n",
       "    </tr>\n",
       "    <tr>\n",
       "      <th>3</th>\n",
       "      <td>Color</td>\n",
       "      <td>Christopher Nolan</td>\n",
       "      <td>813.0</td>\n",
       "      <td>164.0</td>\n",
       "      <td>22000.0</td>\n",
       "      <td>23000.0</td>\n",
       "      <td>Christian Bale</td>\n",
       "      <td>27000.0</td>\n",
       "      <td>448130642.0</td>\n",
       "      <td>Action|Thriller</td>\n",
       "      <td>...</td>\n",
       "      <td>2701.0</td>\n",
       "      <td>English</td>\n",
       "      <td>USA</td>\n",
       "      <td>PG-13</td>\n",
       "      <td>250000000.0</td>\n",
       "      <td>2012.0</td>\n",
       "      <td>23000.0</td>\n",
       "      <td>8.5</td>\n",
       "      <td>2.35</td>\n",
       "      <td>164000</td>\n",
       "    </tr>\n",
       "    <tr>\n",
       "      <th>4</th>\n",
       "      <td>NaN</td>\n",
       "      <td>Doug Walker</td>\n",
       "      <td>NaN</td>\n",
       "      <td>NaN</td>\n",
       "      <td>131.0</td>\n",
       "      <td>NaN</td>\n",
       "      <td>Rob Walker</td>\n",
       "      <td>131.0</td>\n",
       "      <td>NaN</td>\n",
       "      <td>Documentary</td>\n",
       "      <td>...</td>\n",
       "      <td>NaN</td>\n",
       "      <td>NaN</td>\n",
       "      <td>NaN</td>\n",
       "      <td>NaN</td>\n",
       "      <td>NaN</td>\n",
       "      <td>NaN</td>\n",
       "      <td>12.0</td>\n",
       "      <td>7.1</td>\n",
       "      <td>NaN</td>\n",
       "      <td>0</td>\n",
       "    </tr>\n",
       "  </tbody>\n",
       "</table>\n",
       "<p>5 rows × 28 columns</p>\n",
       "</div>"
      ],
      "text/plain": [
       "   color      director_name  num_critic_for_reviews  duration  \\\n",
       "0  Color      James Cameron                   723.0     178.0   \n",
       "1  Color     Gore Verbinski                   302.0     169.0   \n",
       "2  Color         Sam Mendes                   602.0     148.0   \n",
       "3  Color  Christopher Nolan                   813.0     164.0   \n",
       "4    NaN        Doug Walker                     NaN       NaN   \n",
       "\n",
       "   director_facebook_likes  actor_3_facebook_likes      actor_2_name  \\\n",
       "0                      0.0                   855.0  Joel David Moore   \n",
       "1                    563.0                  1000.0     Orlando Bloom   \n",
       "2                      0.0                   161.0      Rory Kinnear   \n",
       "3                  22000.0                 23000.0    Christian Bale   \n",
       "4                    131.0                     NaN        Rob Walker   \n",
       "\n",
       "   actor_1_facebook_likes        gross                           genres  ...  \\\n",
       "0                  1000.0  760505847.0  Action|Adventure|Fantasy|Sci-Fi  ...   \n",
       "1                 40000.0  309404152.0         Action|Adventure|Fantasy  ...   \n",
       "2                 11000.0  200074175.0        Action|Adventure|Thriller  ...   \n",
       "3                 27000.0  448130642.0                  Action|Thriller  ...   \n",
       "4                   131.0          NaN                      Documentary  ...   \n",
       "\n",
       "  num_user_for_reviews language  country  content_rating       budget  \\\n",
       "0               3054.0  English      USA           PG-13  237000000.0   \n",
       "1               1238.0  English      USA           PG-13  300000000.0   \n",
       "2                994.0  English       UK           PG-13  245000000.0   \n",
       "3               2701.0  English      USA           PG-13  250000000.0   \n",
       "4                  NaN      NaN      NaN             NaN          NaN   \n",
       "\n",
       "   title_year actor_2_facebook_likes imdb_score  aspect_ratio  \\\n",
       "0      2009.0                  936.0        7.9          1.78   \n",
       "1      2007.0                 5000.0        7.1          2.35   \n",
       "2      2015.0                  393.0        6.8          2.35   \n",
       "3      2012.0                23000.0        8.5          2.35   \n",
       "4         NaN                   12.0        7.1           NaN   \n",
       "\n",
       "  movie_facebook_likes  \n",
       "0                33000  \n",
       "1                    0  \n",
       "2                85000  \n",
       "3               164000  \n",
       "4                    0  \n",
       "\n",
       "[5 rows x 28 columns]"
      ]
     },
     "execution_count": 3,
     "metadata": {},
     "output_type": "execute_result"
    }
   ],
   "source": [
    "filmdb.head(5)"
   ]
  },
  {
   "cell_type": "code",
   "execution_count": 11,
   "id": "c909e3c4-b101-438d-9ae6-af9c540f7242",
   "metadata": {},
   "outputs": [
    {
     "data": {
      "text/plain": [
       "Index(['color', 'director_name', 'num_critic_for_reviews', 'duration',\n",
       "       'director_facebook_likes', 'actor_3_facebook_likes', 'actor_2_name',\n",
       "       'actor_1_facebook_likes', 'gross', 'genres', 'actor_1_name',\n",
       "       'movie_title', 'num_voted_users', 'cast_total_facebook_likes',\n",
       "       'actor_3_name', 'facenumber_in_poster', 'plot_keywords',\n",
       "       'movie_imdb_link', 'num_user_for_reviews', 'language', 'country',\n",
       "       'content_rating', 'budget', 'title_year', 'actor_2_facebook_likes',\n",
       "       'imdb_score', 'aspect_ratio', 'movie_facebook_likes'],\n",
       "      dtype='object')"
      ]
     },
     "execution_count": 11,
     "metadata": {},
     "output_type": "execute_result"
    }
   ],
   "source": [
    "filmdb.columns"
   ]
  },
  {
   "cell_type": "code",
   "execution_count": 6,
   "id": "bc9ca670-9cab-4d0d-b8a4-5d98ee79b6d2",
   "metadata": {
    "scrolled": true
   },
   "outputs": [
    {
     "name": "stdout",
     "output_type": "stream",
     "text": [
      "<class 'pandas.core.frame.DataFrame'>\n",
      "RangeIndex: 5043 entries, 0 to 5042\n",
      "Data columns (total 28 columns):\n",
      " #   Column                     Non-Null Count  Dtype  \n",
      "---  ------                     --------------  -----  \n",
      " 0   color                      5024 non-null   object \n",
      " 1   director_name              4939 non-null   object \n",
      " 2   num_critic_for_reviews     4993 non-null   float64\n",
      " 3   duration                   5028 non-null   float64\n",
      " 4   director_facebook_likes    4939 non-null   float64\n",
      " 5   actor_3_facebook_likes     5020 non-null   float64\n",
      " 6   actor_2_name               5030 non-null   object \n",
      " 7   actor_1_facebook_likes     5036 non-null   float64\n",
      " 8   gross                      4159 non-null   float64\n",
      " 9   genres                     5043 non-null   object \n",
      " 10  actor_1_name               5036 non-null   object \n",
      " 11  movie_title                5043 non-null   object \n",
      " 12  num_voted_users            5043 non-null   int64  \n",
      " 13  cast_total_facebook_likes  5043 non-null   int64  \n",
      " 14  actor_3_name               5020 non-null   object \n",
      " 15  facenumber_in_poster       5030 non-null   float64\n",
      " 16  plot_keywords              4890 non-null   object \n",
      " 17  movie_imdb_link            5043 non-null   object \n",
      " 18  num_user_for_reviews       5022 non-null   float64\n",
      " 19  language                   5029 non-null   object \n",
      " 20  country                    5038 non-null   object \n",
      " 21  content_rating             4740 non-null   object \n",
      " 22  budget                     4551 non-null   float64\n",
      " 23  title_year                 4935 non-null   float64\n",
      " 24  actor_2_facebook_likes     5030 non-null   float64\n",
      " 25  imdb_score                 5043 non-null   float64\n",
      " 26  aspect_ratio               4714 non-null   float64\n",
      " 27  movie_facebook_likes       5043 non-null   int64  \n",
      "dtypes: float64(13), int64(3), object(12)\n",
      "memory usage: 1.1+ MB\n"
     ]
    }
   ],
   "source": [
    "filmdb.info()"
   ]
  },
  {
   "cell_type": "markdown",
   "id": "d527289d-1e80-41a3-bece-a8e753abc35f",
   "metadata": {},
   "source": [
    "## Meetniveau's van alle tabellen"
   ]
  },
  {
   "cell_type": "code",
   "execution_count": 9,
   "id": "8522b0bc-0d75-4f21-a1e3-bff2bbedb85d",
   "metadata": {
    "scrolled": true
   },
   "outputs": [
    {
     "data": {
      "image/png": "[encoded data removed]",
      "text/plain": [
       "<IPython.core.display.Image object>"
      ]
     },
     "metadata": {},
     "output_type": "display_data"
    }
   ],
   "source": [
    "display(Image(filename=\"meet.png\"))"
   ]
  },
  {
   "cell_type": "markdown",
   "id": "60ec50ec-1d82-4ca4-95fb-3a844d62f509",
   "metadata": {},
   "source": [
    "## Feature and target variables\n",
    "\n",
    "Voor feature variables gaan we een paar tabellen analyseren. De target variabel is al gegeven, namelijk de Gross column.\n",
    "De gross is afhankelijk van de feature variables, die zijn onafhankelijk."
   ]
  },
  {
   "cell_type": "code",
   "execution_count": 13,
   "id": "af850c74-5492-481e-99b6-bd28efa30c52",
   "metadata": {},
   "outputs": [],
   "source": [
    "feature_vars = [\n",
    "       'director_facebook_likes',\n",
    "       'actor_1_facebook_likes',\n",
    "       'num_voted_users', \n",
    "       'cast_total_facebook_likes', \n",
    "       'num_user_for_reviews',\n",
    "       'imdb_score',\n",
    "       'gross']\n",
    "target_var = ['gross']"
   ]
  },
  {
   "cell_type": "code",
   "execution_count": 14,
   "id": "4f815848-f87e-4444-bae6-d81aa5392b54",
   "metadata": {},
   "outputs": [
    {
     "data": {
      "text/html": [
       "<div>\n",
       "<style scoped>\n",
       "    .dataframe tbody tr th:only-of-type {\n",
       "        vertical-align: middle;\n",
       "    }\n",
       "\n",
       "    .dataframe tbody tr th {\n",
       "        vertical-align: top;\n",
       "    }\n",
       "\n",
       "    .dataframe thead th {\n",
       "        text-align: right;\n",
       "    }\n",
       "</style>\n",
       "<table border=\"1\" class=\"dataframe\">\n",
       "  <thead>\n",
       "    <tr style=\"text-align: right;\">\n",
       "      <th></th>\n",
       "      <th>director_facebook_likes</th>\n",
       "      <th>actor_1_facebook_likes</th>\n",
       "      <th>num_voted_users</th>\n",
       "      <th>cast_total_facebook_likes</th>\n",
       "      <th>num_user_for_reviews</th>\n",
       "      <th>imdb_score</th>\n",
       "      <th>gross</th>\n",
       "    </tr>\n",
       "  </thead>\n",
       "  <tbody>\n",
       "    <tr>\n",
       "      <th>count</th>\n",
       "      <td>4939.000000</td>\n",
       "      <td>5036.000000</td>\n",
       "      <td>5.043000e+03</td>\n",
       "      <td>5043.000000</td>\n",
       "      <td>5022.000000</td>\n",
       "      <td>5043.000000</td>\n",
       "      <td>4.159000e+03</td>\n",
       "    </tr>\n",
       "    <tr>\n",
       "      <th>mean</th>\n",
       "      <td>686.509212</td>\n",
       "      <td>6560.047061</td>\n",
       "      <td>8.366816e+04</td>\n",
       "      <td>9699.063851</td>\n",
       "      <td>272.770808</td>\n",
       "      <td>6.442138</td>\n",
       "      <td>4.846841e+07</td>\n",
       "    </tr>\n",
       "    <tr>\n",
       "      <th>std</th>\n",
       "      <td>2813.328607</td>\n",
       "      <td>15020.759120</td>\n",
       "      <td>1.384853e+05</td>\n",
       "      <td>18163.799124</td>\n",
       "      <td>377.982886</td>\n",
       "      <td>1.125116</td>\n",
       "      <td>6.845299e+07</td>\n",
       "    </tr>\n",
       "    <tr>\n",
       "      <th>min</th>\n",
       "      <td>0.000000</td>\n",
       "      <td>0.000000</td>\n",
       "      <td>5.000000e+00</td>\n",
       "      <td>0.000000</td>\n",
       "      <td>1.000000</td>\n",
       "      <td>1.600000</td>\n",
       "      <td>1.620000e+02</td>\n",
       "    </tr>\n",
       "    <tr>\n",
       "      <th>25%</th>\n",
       "      <td>7.000000</td>\n",
       "      <td>614.000000</td>\n",
       "      <td>8.593500e+03</td>\n",
       "      <td>1411.000000</td>\n",
       "      <td>65.000000</td>\n",
       "      <td>5.800000</td>\n",
       "      <td>5.340988e+06</td>\n",
       "    </tr>\n",
       "    <tr>\n",
       "      <th>50%</th>\n",
       "      <td>49.000000</td>\n",
       "      <td>988.000000</td>\n",
       "      <td>3.435900e+04</td>\n",
       "      <td>3090.000000</td>\n",
       "      <td>156.000000</td>\n",
       "      <td>6.600000</td>\n",
       "      <td>2.551750e+07</td>\n",
       "    </tr>\n",
       "    <tr>\n",
       "      <th>75%</th>\n",
       "      <td>194.500000</td>\n",
       "      <td>11000.000000</td>\n",
       "      <td>9.630900e+04</td>\n",
       "      <td>13756.500000</td>\n",
       "      <td>326.000000</td>\n",
       "      <td>7.200000</td>\n",
       "      <td>6.230944e+07</td>\n",
       "    </tr>\n",
       "    <tr>\n",
       "      <th>max</th>\n",
       "      <td>23000.000000</td>\n",
       "      <td>640000.000000</td>\n",
       "      <td>1.689764e+06</td>\n",
       "      <td>656730.000000</td>\n",
       "      <td>5060.000000</td>\n",
       "      <td>9.500000</td>\n",
       "      <td>7.605058e+08</td>\n",
       "    </tr>\n",
       "  </tbody>\n",
       "</table>\n",
       "</div>"
      ],
      "text/plain": [
       "       director_facebook_likes  actor_1_facebook_likes  num_voted_users  \\\n",
       "count              4939.000000             5036.000000     5.043000e+03   \n",
       "mean                686.509212             6560.047061     8.366816e+04   \n",
       "std                2813.328607            15020.759120     1.384853e+05   \n",
       "min                   0.000000                0.000000     5.000000e+00   \n",
       "25%                   7.000000              614.000000     8.593500e+03   \n",
       "50%                  49.000000              988.000000     3.435900e+04   \n",
       "75%                 194.500000            11000.000000     9.630900e+04   \n",
       "max               23000.000000           640000.000000     1.689764e+06   \n",
       "\n",
       "       cast_total_facebook_likes  num_user_for_reviews   imdb_score  \\\n",
       "count                5043.000000           5022.000000  5043.000000   \n",
       "mean                 9699.063851            272.770808     6.442138   \n",
       "std                 18163.799124            377.982886     1.125116   \n",
       "min                     0.000000              1.000000     1.600000   \n",
       "25%                  1411.000000             65.000000     5.800000   \n",
       "50%                  3090.000000            156.000000     6.600000   \n",
       "75%                 13756.500000            326.000000     7.200000   \n",
       "max                656730.000000           5060.000000     9.500000   \n",
       "\n",
       "              gross  \n",
       "count  4.159000e+03  \n",
       "mean   4.846841e+07  \n",
       "std    6.845299e+07  \n",
       "min    1.620000e+02  \n",
       "25%    5.340988e+06  \n",
       "50%    2.551750e+07  \n",
       "75%    6.230944e+07  \n",
       "max    7.605058e+08  "
      ]
     },
     "execution_count": 14,
     "metadata": {},
     "output_type": "execute_result"
    }
   ],
   "source": [
    "filmdb[feature_vars].describe()"
   ]
  },
  {
   "cell_type": "markdown",
   "id": "e5f1259e-058f-4f7e-b309-125b27f4ae14",
   "metadata": {},
   "source": [
    "### Beschrijving variables\n",
    "\n",
    "#### director_facebook_likes (Facebook likes voor de regisseur):\n",
    "\n",
    "Aantal waarden: 4939\n",
    "Gemiddelde: 686,51 likes\n",
    "Standaarddeviatie: 2813,33 (grote variatie in likes)\n",
    "Minimum: 0 likes\n",
    "25e percentiel: 7 likes (25% van de regisseurs heeft 7 of minder likes)\n",
    "Mediaan (50e percentiel): 49 likes\n",
    "75e percentiel: 194,5 likes\n",
    "Maximum: 23000 likes\n",
    "\n",
    "#### actor_1_facebook_likes (Facebook likes voor de hoofdacteur):\n",
    "\n",
    "Aantal waarden: 5036\n",
    "Gemiddelde: 6560,05 likes\n",
    "Standaarddeviatie: 15020,76\n",
    "Minimum: 0 likes\n",
    "25e percentiel: 614 likes\n",
    "Mediaan: 988 likes\n",
    "75e percentiel: 11000 likes\n",
    "Maximum: 640000 likes (enorm verschil met andere waarden)\n",
    "\n",
    "#### num_voted_users (Aantal gebruikersstemmen op IMDb):\n",
    "\n",
    "Aantal waarden: 5043\n",
    "Gemiddelde: 83668,16 stemmen\n",
    "Standaarddeviatie: 138485,3\n",
    "Minimum: 5 stemmen\n",
    "25e percentiel: 8593,5 stemmen\n",
    "Mediaan: 34359 stemmen\n",
    "75e percentiel: 96309 stemmen\n",
    "Maximum: 1689764 stemmen\n",
    "\n",
    "#### cast_total_facebook_likes (Totaal aantal Facebook likes voor de cast):\n",
    "\n",
    "Aantal waarden: 5043\n",
    "Gemiddelde: 9699,06 likes\n",
    "Standaarddeviatie: 18163,8\n",
    "Minimum: 0 likes\n",
    "25e percentiel: 1411 likes\n",
    "Mediaan: 3090 likes\n",
    "75e percentiel: 13756,5 likes\n",
    "Maximum: 656730 likes\n",
    "\n",
    "#### num_user_for_reviews (Aantal gebruikersreviews op IMDb):\n",
    "\n",
    "Aantal waarden: 5022\n",
    "Gemiddelde: 272,77 reviews\n",
    "Standaarddeviatie: 377,98\n",
    "Minimum: 1 review\n",
    "25e percentiel: 65 reviews\n",
    "Mediaan: 156 reviews\n",
    "75e percentiel: 326 reviews\n",
    "Maximum: 5060 reviews\n",
    "\n",
    "#### imdb_score (IMDb score):\n",
    "\n",
    "Aantal waarden: 5043\n",
    "Gemiddelde: 6,44\n",
    "Standaarddeviatie: 1,13\n",
    "Minimum: 1,6\n",
    "25e percentiel: 5,8\n",
    "Mediaan: 6,6\n",
    "75e percentiel: 7,2\n",
    "Maximum: 9,5\n",
    "\n",
    "#### gross (Bruto-opbrengst):\n",
    "\n",
    "Aantal waarden: 4159\n",
    "Gemiddelde: 48,47 miljoen USD\n",
    "Standaarddeviatie: 68,45 miljoen USD\n",
    "Minimum: 162 USD\n",
    "25e percentiel: 5,34 miljoen USD\n",
    "Mediaan: 25,52 miljoen USD\n",
    "75e percentiel: 62,31 miljoen USD\n",
    "Maximum: 760,51 miljoen USD"
   ]
  },
  {
   "cell_type": "code",
   "execution_count": 23,
   "id": "e0af6e2c-75fd-4802-b046-5a33fb2abb9a",
   "metadata": {},
   "outputs": [
    {
     "data": {
      "image/png": "[encoded data removed]",
      "text/plain": [
       "<Figure size 640x480 with 1 Axes>"
      ]
     },
     "metadata": {},
     "output_type": "display_data"
    }
   ],
   "source": [
    "### Outliers visueel maken\n",
    "\n",
    "filmdb[target_var].boxplot()\n",
    "\n",
    "# Toon de plot\n",
    "plt.xticks(rotation=45)\n",
    "plt.title('Boxplots van Feature Variabelen (Outliers)')\n",
    "plt.show()\n"
   ]
  },
  {
   "cell_type": "markdown",
   "id": "5b32c125-dea9-423e-907c-ff6a8508e3e2",
   "metadata": {},
   "source": [
    "Aanzienlijk veel outliers. We gaan later kijken wat we hiermee kunnen doen. Voor nu hebben een een goed begrip van de data.\n",
    "Laten we kijken naar missing values en de data opschonen."
   ]
  },
  {
   "cell_type": "markdown",
   "id": "b0ee69f8-9314-4ecd-89c2-284ece096dba",
   "metadata": {},
   "source": [
    "### Missing values\n",
    "\n",
    "We zien dat gross bijna een vijfde van z'n data mist. We gaan hiervoor een oplossing moeten bedenken. Voor nu verwijderen we de empty values en de outliers."
   ]
  },
  {
   "cell_type": "code",
   "execution_count": 26,
   "id": "7f854cca-4e21-4772-a6a5-3a41991f12b2",
   "metadata": {
    "scrolled": true
   },
   "outputs": [
    {
     "data": {
      "text/plain": [
       "director_facebook_likes      104\n",
       "actor_1_facebook_likes         7\n",
       "num_voted_users                0\n",
       "cast_total_facebook_likes      0\n",
       "num_user_for_reviews          21\n",
       "imdb_score                     0\n",
       "gross                        884\n",
       "dtype: int64"
      ]
     },
     "execution_count": 26,
     "metadata": {},
     "output_type": "execute_result"
    }
   ],
   "source": [
    "filmdb[feature_vars].isnull().sum()"
   ]
  },
  {
   "cell_type": "markdown",
   "id": "255cde32-7556-415c-9206-83bd37adde3a",
   "metadata": {},
   "source": [
    "# Data Preperation"
   ]
  },
  {
   "cell_type": "code",
   "execution_count": 30,
   "id": "d14bb71c-3705-47da-956a-4d1dd7d9be78",
   "metadata": {},
   "outputs": [
    {
     "data": {
      "text/plain": [
       "director_facebook_likes      3\n",
       "actor_1_facebook_likes       4\n",
       "num_voted_users              0\n",
       "cast_total_facebook_likes    0\n",
       "num_user_for_reviews         1\n",
       "imdb_score                   0\n",
       "gross                        0\n",
       "dtype: int64"
      ]
     },
     "execution_count": 30,
     "metadata": {},
     "output_type": "execute_result"
    }
   ],
   "source": [
    "cleaned_data = filmdb[feature_vars].dropna()\n",
    "\n",
    "# Bepaal Q1 en Q3\n",
    "Q1 = filmdb[feature_vars].quantile(0.25)\n",
    "Q3 = filmdb[feature_vars].quantile(0.75)\n",
    "\n",
    "# Bereken de IQR\n",
    "IQR = Q3 - Q1\n",
    "\n",
    "# Verwijder outliers voor elke feature (ookal hebben we nu alleen gross. \n",
    "# Deze functie kan van pas komen mochten we andere tabellen willen controleren later)\n",
    "# Filter de outliers weg op basis van de 1.5 * IQR regel\n",
    "\n",
    "for feature in feature_vars:\n",
    "    # Bereken de grenzen voor outliers\n",
    "    lower_bound = Q1[feature] - 1.5 * IQR[feature]\n",
    "    upper_bound = Q3[feature] + 1.5 * IQR[feature]\n",
    "    \n",
    "    # Verwijder de outliers\n",
    "    clean_filmdb = filmdb[(filmdb[feature] >= lower_bound) & (filmdb[feature] <= upper_bound)]\n",
    "\n",
    "clean_filmdb[feature_vars].isnull().sum()"
   ]
  },
  {
   "cell_type": "code",
   "execution_count": 31,
   "id": "f859a7a5-90ff-4a95-8389-44cd35c07190",
   "metadata": {},
   "outputs": [
    {
     "data": {
      "image/png": "[encoded data removed]",
      "text/plain": [
       "<Figure size 640x480 with 1 Axes>"
      ]
     },
     "metadata": {},
     "output_type": "display_data"
    }
   ],
   "source": [
    "clean_filmdb[target_var].boxplot()\n",
    "\n",
    "# Toon de plot\n",
    "plt.xticks(rotation=45)\n",
    "plt.title('Boxplots van Feature Variabelen (Outliers)')\n",
    "plt.show()"
   ]
  }
 ],
 "metadata": {
  "kernelspec": {
   "display_name": "Python 3 (ipykernel)",
   "language": "python",
   "name": "python3"
  },
  "language_info": {
   "codemirror_mode": {
    "name": "ipython",
    "version": 3
   },
   "file_extension": ".py",
   "mimetype": "text/x-python",
   "name": "python",
   "nbconvert_exporter": "python",
   "pygments_lexer": "ipython3",
   "version": "3.10.9"
  }
 },
 "nbformat": 4,
 "nbformat_minor": 5
}
